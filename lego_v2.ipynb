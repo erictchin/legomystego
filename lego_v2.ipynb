{
 "cells": [
  {
   "cell_type": "code",
   "execution_count": 10,
   "metadata": {
    "collapsed": true
   },
   "outputs": [],
   "source": [
    "import csv\n",
    "import re"
   ]
  },
  {
   "cell_type": "code",
   "execution_count": 11,
   "metadata": {
    "collapsed": true
   },
   "outputs": [],
   "source": []
  },
  {
   "cell_type": "code",
   "execution_count": 21,
   "metadata": {
    "collapsed": false
   },
   "outputs": [],
   "source": [
    "def normalize_tweets(jack_tweets):\n",
    "\n",
    "    jack_tweets_no_rts = list(filter(lambda x: not x[1].startswith('RT'), jack_tweets))\n",
    "\n",
    "    # Need to process each list into the language model\n",
    "    jack_tweets_no_rts_lowercase = [tweet[1].lower() for tweet in jack_tweets_no_rts]\n",
    "\n",
    "    # Canonicalize links to \"URL\" and @mentions to \"USER\"\n",
    "    jack_tweets_no_rts_lowercase = [re.sub(r'(https?:\\/\\/t\\.co\\/\\w+)', 'URL', tweet) for tweet in jack_tweets_no_rts_lowercase]\n",
    "    jack_tweets_normalized = [re.sub(r'(@\\w+)', 'USER', tweet) for tweet in jack_tweets_no_rts_lowercase]\n",
    "    \n",
    "    # Replace multiple URLS and USERS with single user\n",
    "    jack_tweets_normalized = [re.sub(\"(USER\\s*)+\", \"USER \", tweet) for tweet in jack_tweets_normalized]\n",
    "    jack_tweets_normalized = [re.sub(\"(URL\\s*)+\", \"URL \", tweet) for tweet in jack_tweets_normalized]\n",
    "\n",
    "    # For the language model, *maybe* having USER or URL makes sense?\n",
    "    # When generating a tweet, we should replace USERs and URLs with \"USER\" and \"URL\"\n",
    "    # This will eliminate the bias.  We can merge \"USER USER\" to \"USER\"\n",
    "    # for i in range(10):\n",
    "    #    print(jack_tweets_no_rts_lowercase[i])\n",
    "    #    print(\"  -> {}\".format(jack_tweets_normalized[i]))\n",
    "        \n",
    "    return jack_tweets_normalized"
   ]
  },
  {
   "cell_type": "code",
   "execution_count": 23,
   "metadata": {
    "collapsed": false
   },
   "outputs": [
    {
     "name": "stdout",
     "output_type": "stream",
     "text": [
      "527\n",
      "5\n",
      "1491\n",
      "2023\n"
     ]
    }
   ],
   "source": [
    "# Build a language model of all the tweets\n",
    "tweet_corpus = ['data/jack.csv', 'data/peterthiel.csv', 'data/realDonaldTrump.csv']\n",
    "\n",
    "all_tweets = []\n",
    "for someone in tweet_corpus:\n",
    "    csv_reader = csv.reader(open(someone, 'r'))\n",
    "    \n",
    "    columns = next(csv_reader)\n",
    "    someones_tweets = list(csv_reader)\n",
    "    \n",
    "    someones_normalized_tweets = normalize_tweets(someones_tweets)\n",
    "\n",
    "    all_tweets.extend(someones_normalized_tweets)\n",
    "    \n",
    "    print(len(someones_normalized_tweets))\n",
    "    \n",
    "print(len(all_tweets))\n"
   ]
  },
  {
   "cell_type": "code",
   "execution_count": 25,
   "metadata": {
    "collapsed": false
   },
   "outputs": [],
   "source": [
    "with open(\"data/all_tweets.txt\", \"w\") as f:\n",
    "    for tweet in all_tweets:\n",
    "          f.write(\"{}\\n\".format(tweet))\n",
    "    \n",
    "# cat data/all_tweets.txt | python process.py | ./kenlm/bin/lmplz -o 3 > data/tweets.arpa\n",
    "# ./kenlm/bin/build_binary data/tweets.arpa data/tweets.klm"
   ]
  },
  {
   "cell_type": "code",
   "execution_count": 26,
   "metadata": {
    "collapsed": true
   },
   "outputs": [],
   "source": [
    "import kenlm"
   ]
  },
  {
   "cell_type": "code",
   "execution_count": 27,
   "metadata": {
    "collapsed": false
   },
   "outputs": [
    {
     "data": {
      "text/plain": [
       "-15.884644508361816"
      ]
     },
     "execution_count": 27,
     "metadata": {},
     "output_type": "execute_result"
    }
   ],
   "source": [
    "model = kenlm.LanguageModel('data/tweets.klm')\n",
    "model.score('in the beginning was the word a')"
   ]
  },
  {
   "cell_type": "code",
   "execution_count": 29,
   "metadata": {
    "collapsed": false
   },
   "outputs": [
    {
     "data": {
      "text/plain": [
       "-6.473952293395996"
      ]
     },
     "execution_count": 29,
     "metadata": {},
     "output_type": "execute_result"
    }
   ],
   "source": [
    "model.score(\"thank you reno\")"
   ]
  },
  {
   "cell_type": "code",
   "execution_count": 30,
   "metadata": {
    "collapsed": false
   },
   "outputs": [
    {
     "data": {
      "text/plain": [
       "-5.952385425567627"
      ]
     },
     "execution_count": 30,
     "metadata": {},
     "output_type": "execute_result"
    }
   ],
   "source": [
    "model.score(\"thank you nevada\")"
   ]
  },
  {
   "cell_type": "code",
   "execution_count": 32,
   "metadata": {
    "collapsed": false
   },
   "outputs": [
    {
     "data": {
      "text/plain": [
       "-4.437318801879883"
      ]
     },
     "execution_count": 32,
     "metadata": {},
     "output_type": "execute_result"
    }
   ],
   "source": [
    "model.score(\"crooked hillary\")"
   ]
  },
  {
   "cell_type": "code",
   "execution_count": 33,
   "metadata": {
    "collapsed": false
   },
   "outputs": [
    {
     "data": {
      "text/plain": [
       "-10.082124710083008"
      ]
     },
     "execution_count": 33,
     "metadata": {},
     "output_type": "execute_result"
    }
   ],
   "source": [
    "model.score(\"hillary is a liar\")"
   ]
  },
  {
   "cell_type": "code",
   "execution_count": 34,
   "metadata": {
    "collapsed": false
   },
   "outputs": [
    {
     "data": {
      "text/plain": [
       "['__class__',\n",
       " '__contains__',\n",
       " '__delattr__',\n",
       " '__dir__',\n",
       " '__doc__',\n",
       " '__eq__',\n",
       " '__format__',\n",
       " '__ge__',\n",
       " '__getattribute__',\n",
       " '__gt__',\n",
       " '__hash__',\n",
       " '__init__',\n",
       " '__le__',\n",
       " '__lt__',\n",
       " '__ne__',\n",
       " '__new__',\n",
       " '__reduce__',\n",
       " '__reduce_ex__',\n",
       " '__repr__',\n",
       " '__setattr__',\n",
       " '__sizeof__',\n",
       " '__str__',\n",
       " '__subclasshook__',\n",
       " 'full_scores',\n",
       " 'order',\n",
       " 'path',\n",
       " 'score']"
      ]
     },
     "execution_count": 34,
     "metadata": {},
     "output_type": "execute_result"
    }
   ],
   "source": [
    "dir(model)"
   ]
  },
  {
   "cell_type": "code",
   "execution_count": 35,
   "metadata": {
    "collapsed": false
   },
   "outputs": [
    {
     "data": {
      "text/plain": [
       "b'/Users/what/Documents/code/legomystego/data/tweets.klm'"
      ]
     },
     "execution_count": 35,
     "metadata": {},
     "output_type": "execute_result"
    }
   ],
   "source": [
    "model.path\n"
   ]
  },
  {
   "cell_type": "code",
   "execution_count": 36,
   "metadata": {
    "collapsed": false
   },
   "outputs": [
    {
     "data": {
      "text/plain": [
       "3"
      ]
     },
     "execution_count": 36,
     "metadata": {},
     "output_type": "execute_result"
    }
   ],
   "source": [
    "model.order"
   ]
  },
  {
   "cell_type": "code",
   "execution_count": 43,
   "metadata": {
    "collapsed": false
   },
   "outputs": [
    {
     "data": {
      "text/plain": [
       "[(-2.605342388153076, 2),\n",
       " (-0.13421054184436798, 3),\n",
       " (-0.47079798579216003, 3),\n",
       " (-0.2677556574344635, 3),\n",
       " (-0.06159810349345207, 3),\n",
       " (-0.10894644260406494, 3),\n",
       " (-3.1698803901672363, 1)]"
      ]
     },
     "execution_count": 43,
     "metadata": {},
     "output_type": "execute_result"
    }
   ],
   "source": [
    "list(model.full_scores(\"make america safe and great again\"))"
   ]
  },
  {
   "cell_type": "code",
   "execution_count": 54,
   "metadata": {
    "collapsed": false
   },
   "outputs": [
    {
     "data": {
      "text/plain": [
       "-12.686223983764648"
      ]
     },
     "execution_count": 54,
     "metadata": {},
     "output_type": "execute_result"
    }
   ],
   "source": [
    "model.score(\"crooked and we are going to make america great again\")"
   ]
  },
  {
   "cell_type": "code",
   "execution_count": 59,
   "metadata": {
    "collapsed": false
   },
   "outputs": [
    {
     "data": {
      "text/plain": [
       "-15.567790985107422"
      ]
     },
     "execution_count": 59,
     "metadata": {},
     "output_type": "execute_result"
    }
   ],
   "source": [
    "model.score(\"thank for the incredible support this morning tampa\")"
   ]
  },
  {
   "cell_type": "code",
   "execution_count": null,
   "metadata": {
    "collapsed": true
   },
   "outputs": [],
   "source": []
  }
 ],
 "metadata": {
  "kernelspec": {
   "display_name": "VirtualEnv Python 3.5 Stego",
   "language": "python",
   "name": "ipykernel-stego"
  },
  "language_info": {
   "codemirror_mode": {
    "name": "ipython",
    "version": 3
   },
   "file_extension": ".py",
   "mimetype": "text/x-python",
   "name": "python",
   "nbconvert_exporter": "python",
   "pygments_lexer": "ipython3",
   "version": "3.5.2"
  }
 },
 "nbformat": 4,
 "nbformat_minor": 1
}
